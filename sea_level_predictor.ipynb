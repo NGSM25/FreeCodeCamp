{
 "cells": [
  {
   "cell_type": "code",
   "execution_count": 31,
   "metadata": {},
   "outputs": [
    {
     "data": {
      "text/html": [
       "<div>\n",
       "<style scoped>\n",
       "    .dataframe tbody tr th:only-of-type {\n",
       "        vertical-align: middle;\n",
       "    }\n",
       "\n",
       "    .dataframe tbody tr th {\n",
       "        vertical-align: top;\n",
       "    }\n",
       "\n",
       "    .dataframe thead th {\n",
       "        text-align: right;\n",
       "    }\n",
       "</style>\n",
       "<table border=\"1\" class=\"dataframe\">\n",
       "  <thead>\n",
       "    <tr style=\"text-align: right;\">\n",
       "      <th></th>\n",
       "      <th>Year</th>\n",
       "      <th>CSIRO Adjusted Sea Level</th>\n",
       "      <th>Lower Error Bound</th>\n",
       "      <th>Upper Error Bound</th>\n",
       "      <th>NOAA Adjusted Sea Level</th>\n",
       "    </tr>\n",
       "  </thead>\n",
       "  <tbody>\n",
       "    <tr>\n",
       "      <th>0</th>\n",
       "      <td>2023</td>\n",
       "      <td>NaN</td>\n",
       "      <td>NaN</td>\n",
       "      <td>NaN</td>\n",
       "      <td>10.203904</td>\n",
       "    </tr>\n",
       "    <tr>\n",
       "      <th>1</th>\n",
       "      <td>2022</td>\n",
       "      <td>NaN</td>\n",
       "      <td>NaN</td>\n",
       "      <td>NaN</td>\n",
       "      <td>9.974711</td>\n",
       "    </tr>\n",
       "    <tr>\n",
       "      <th>2</th>\n",
       "      <td>2021</td>\n",
       "      <td>NaN</td>\n",
       "      <td>NaN</td>\n",
       "      <td>NaN</td>\n",
       "      <td>9.886688</td>\n",
       "    </tr>\n",
       "    <tr>\n",
       "      <th>3</th>\n",
       "      <td>2020</td>\n",
       "      <td>NaN</td>\n",
       "      <td>NaN</td>\n",
       "      <td>NaN</td>\n",
       "      <td>9.699874</td>\n",
       "    </tr>\n",
       "    <tr>\n",
       "      <th>4</th>\n",
       "      <td>2019</td>\n",
       "      <td>NaN</td>\n",
       "      <td>NaN</td>\n",
       "      <td>NaN</td>\n",
       "      <td>9.594329</td>\n",
       "    </tr>\n",
       "  </tbody>\n",
       "</table>\n",
       "</div>"
      ],
      "text/plain": [
       "   Year  CSIRO Adjusted Sea Level  Lower Error Bound  Upper Error Bound  \\\n",
       "0  2023                       NaN                NaN                NaN   \n",
       "1  2022                       NaN                NaN                NaN   \n",
       "2  2021                       NaN                NaN                NaN   \n",
       "3  2020                       NaN                NaN                NaN   \n",
       "4  2019                       NaN                NaN                NaN   \n",
       "\n",
       "   NOAA Adjusted Sea Level  \n",
       "0                10.203904  \n",
       "1                 9.974711  \n",
       "2                 9.886688  \n",
       "3                 9.699874  \n",
       "4                 9.594329  "
      ]
     },
     "execution_count": 31,
     "metadata": {},
     "output_type": "execute_result"
    }
   ],
   "source": [
    "import pandas as pd\n",
    "\n",
    "#Use matplotlib to create a scatter plot\n",
    "df = pd.read_csv('epa-sea-level.csv', sep = ',')\n",
    "df.head()"
   ]
  },
  {
   "cell_type": "code",
   "execution_count": 32,
   "metadata": {},
   "outputs": [
    {
     "data": {
      "text/plain": [
       "Text(0, 0.5, 'Sea Level (inches)')"
      ]
     },
     "execution_count": 32,
     "metadata": {},
     "output_type": "execute_result"
    },
    {
     "data": {
      "image/png": "[encoded data removed]",
      "text/plain": [
       "<Figure size 640x480 with 1 Axes>"
      ]
     },
     "metadata": {},
     "output_type": "display_data"
    }
   ],
   "source": [
    "import matplotlib.pyplot as plt\n",
    "from scipy.stats import linregress\n",
    "import numpy as np\n",
    "\n",
    "\n",
    "#Use matplotlib to create a scatter plot using the Year column \n",
    "# as the x-axis and the CSIRO Adjusted Sea Level column as the y-axis\n",
    "plt.scatter(df['Year'], df['CSIRO Adjusted Sea Level'])\n",
    "\n",
    "#Use the linregress function from scipy.stats to get the slope \n",
    "# and y-intercept of the line of best fit. Plot the line of best \n",
    "# fit over the top of the scatter plot. Make the line go through \n",
    "# the year 2050 to predict the sea level rise in 2050.\n",
    "fit1 = linregress(df['Year'], df['CSIRO Adjusted Sea Level'])\n",
    "years_extended = np.arange(df['Year'].min(), 2051, 1)\n",
    "\n",
    "y_pred_extended = fit1.intercept + fit1.slope * years_extended\n",
    "plt.plot(years_extended, y_pred_extended, color='red',label=\"Best Fit Line to 2050\")\n",
    "\n",
    "#Plot a new line of best fit just using the data from year \n",
    "# 2000 through the most recent year in the dataset. \n",
    "# Make the line also go through the year 2050 to predict \n",
    "# the sea level rise in 2050 if the rate of rise continues \n",
    "# as it has since the year 2000.\n",
    "years_2000=df[df['Year']>=2000]\n",
    "years_2000=np.arange(years_2000['Year'].min(), 2051, 1)\n",
    "\n",
    "y_pred_extended2 = fit1.intercept + fit1.slope * years_2000\n",
    "plt.plot(years_2000, y_pred_extended2, color='yellow',label=\"Best Fit Line to 2050\")\n",
    "\n",
    "#The x label should be Year, the y label should be Sea Level \n",
    "# (inches), and the title should be Rise in Sea Level.\n",
    "plt.title('Rise in Sea Level')\n",
    "plt.xlabel('Year')\n",
    "plt.ylabel('Sea Level (inches)')"
   ]
  }
 ],
 "metadata": {
  "kernelspec": {
   "display_name": "Python 3",
   "language": "python",
   "name": "python3"
  },
  "language_info": {
   "codemirror_mode": {
    "name": "ipython",
    "version": 3
   },
   "file_extension": ".py",
   "mimetype": "text/x-python",
   "name": "python",
   "nbconvert_exporter": "python",
   "pygments_lexer": "ipython3",
   "version": "3.12.1"
  }
 },
 "nbformat": 4,
 "nbformat_minor": 2
}
